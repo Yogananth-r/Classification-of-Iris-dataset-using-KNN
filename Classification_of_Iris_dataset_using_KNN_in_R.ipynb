{
  "nbformat": 4,
  "nbformat_minor": 0,
  "metadata": {
    "colab": {
      "provenance": [],
      "authorship_tag": "ABX9TyNgnnWVWjJutx3xBTxo8OTO",
      "include_colab_link": true
    },
    "kernelspec": {
      "name": "ir",
      "display_name": "R"
    },
    "language_info": {
      "name": "R"
    },
    "gpuClass": "standard"
  },
  "cells": [
    {
      "cell_type": "markdown",
      "metadata": {
        "id": "view-in-github",
        "colab_type": "text"
      },
      "source": [
        "<a href=\"https://colab.research.google.com/github/Yogananth-r/Yogananth-r-Classification-of-Iris-dataset-using-KNN-in-R/blob/main/Classification_of_Iris_dataset_using_KNN_in_R.ipynb\" target=\"_parent\"><img src=\"https://colab.research.google.com/assets/colab-badge.svg\" alt=\"Open In Colab\"/></a>"
      ]
    },
    {
      "cell_type": "code",
      "execution_count": 1,
      "metadata": {
        "colab": {
          "base_uri": "https://localhost:8080/"
        },
        "id": "8WcbfwbPv190",
        "outputId": "30bcb3ee-389d-464b-af64-fb1fa1aedbdc"
      },
      "outputs": [
        {
          "output_type": "stream",
          "name": "stdout",
          "text": [
            "'data.frame':\t150 obs. of  5 variables:\n",
            " $ Sepal.Length: num  5.1 4.9 4.7 4.6 5 5.4 4.6 5 4.4 4.9 ...\n",
            " $ Sepal.Width : num  3.5 3 3.2 3.1 3.6 3.9 3.4 3.4 2.9 3.1 ...\n",
            " $ Petal.Length: num  1.4 1.4 1.3 1.5 1.4 1.7 1.4 1.5 1.4 1.5 ...\n",
            " $ Petal.Width : num  0.2 0.2 0.2 0.2 0.2 0.4 0.3 0.2 0.2 0.1 ...\n",
            " $ Species     : Factor w/ 3 levels \"setosa\",\"versicolor\",..: 1 1 1 1 1 1 1 1 1 1 ...\n"
          ]
        }
      ],
      "source": [
        "data(iris)\n",
        "str(iris)"
      ]
    },
    {
      "cell_type": "markdown",
      "source": [
        "Install required packages."
      ],
      "metadata": {
        "id": "OjpbTWV81EmA"
      }
    },
    {
      "cell_type": "code",
      "source": [
        "install.packages(\"e1071\")\n",
        "install.packages(\"caTools\")\n",
        "install.packages(\"class\")"
      ],
      "metadata": {
        "colab": {
          "base_uri": "https://localhost:8080/"
        },
        "id": "fBDoK1OGwgcl",
        "outputId": "2185c8f3-3926-4c8d-d252-b1d85a8b9241"
      },
      "execution_count": 2,
      "outputs": [
        {
          "output_type": "stream",
          "name": "stderr",
          "text": [
            "Installing package into ‘/usr/local/lib/R/site-library’\n",
            "(as ‘lib’ is unspecified)\n",
            "\n",
            "also installing the dependency ‘proxy’\n",
            "\n",
            "\n",
            "Installing package into ‘/usr/local/lib/R/site-library’\n",
            "(as ‘lib’ is unspecified)\n",
            "\n",
            "also installing the dependency ‘bitops’\n",
            "\n",
            "\n",
            "Installing package into ‘/usr/local/lib/R/site-library’\n",
            "(as ‘lib’ is unspecified)\n",
            "\n"
          ]
        }
      ]
    },
    {
      "cell_type": "markdown",
      "source": [
        "Enable the required packages."
      ],
      "metadata": {
        "id": "h9Q3r6ON1Kzi"
      }
    },
    {
      "cell_type": "code",
      "source": [
        "library('caTools')\n",
        "library('class')"
      ],
      "metadata": {
        "id": "LXlgd9rMxcrP"
      },
      "execution_count": 10,
      "outputs": []
    },
    {
      "cell_type": "code",
      "source": [
        "data(iris)\n",
        "head(iris)"
      ],
      "metadata": {
        "colab": {
          "base_uri": "https://localhost:8080/",
          "height": 286
        },
        "id": "JtLWWTUTwqWH",
        "outputId": "6f363d6d-d45e-43a2-8754-355922f52a22"
      },
      "execution_count": 3,
      "outputs": [
        {
          "output_type": "display_data",
          "data": {
            "text/html": [
              "<table class=\"dataframe\">\n",
              "<caption>A data.frame: 6 × 5</caption>\n",
              "<thead>\n",
              "\t<tr><th></th><th scope=col>Sepal.Length</th><th scope=col>Sepal.Width</th><th scope=col>Petal.Length</th><th scope=col>Petal.Width</th><th scope=col>Species</th></tr>\n",
              "\t<tr><th></th><th scope=col>&lt;dbl&gt;</th><th scope=col>&lt;dbl&gt;</th><th scope=col>&lt;dbl&gt;</th><th scope=col>&lt;dbl&gt;</th><th scope=col>&lt;fct&gt;</th></tr>\n",
              "</thead>\n",
              "<tbody>\n",
              "\t<tr><th scope=row>1</th><td>5.1</td><td>3.5</td><td>1.4</td><td>0.2</td><td>setosa</td></tr>\n",
              "\t<tr><th scope=row>2</th><td>4.9</td><td>3.0</td><td>1.4</td><td>0.2</td><td>setosa</td></tr>\n",
              "\t<tr><th scope=row>3</th><td>4.7</td><td>3.2</td><td>1.3</td><td>0.2</td><td>setosa</td></tr>\n",
              "\t<tr><th scope=row>4</th><td>4.6</td><td>3.1</td><td>1.5</td><td>0.2</td><td>setosa</td></tr>\n",
              "\t<tr><th scope=row>5</th><td>5.0</td><td>3.6</td><td>1.4</td><td>0.2</td><td>setosa</td></tr>\n",
              "\t<tr><th scope=row>6</th><td>5.4</td><td>3.9</td><td>1.7</td><td>0.4</td><td>setosa</td></tr>\n",
              "</tbody>\n",
              "</table>\n"
            ],
            "text/markdown": "\nA data.frame: 6 × 5\n\n| <!--/--> | Sepal.Length &lt;dbl&gt; | Sepal.Width &lt;dbl&gt; | Petal.Length &lt;dbl&gt; | Petal.Width &lt;dbl&gt; | Species &lt;fct&gt; |\n|---|---|---|---|---|---|\n| 1 | 5.1 | 3.5 | 1.4 | 0.2 | setosa |\n| 2 | 4.9 | 3.0 | 1.4 | 0.2 | setosa |\n| 3 | 4.7 | 3.2 | 1.3 | 0.2 | setosa |\n| 4 | 4.6 | 3.1 | 1.5 | 0.2 | setosa |\n| 5 | 5.0 | 3.6 | 1.4 | 0.2 | setosa |\n| 6 | 5.4 | 3.9 | 1.7 | 0.4 | setosa |\n\n",
            "text/latex": "A data.frame: 6 × 5\n\\begin{tabular}{r|lllll}\n  & Sepal.Length & Sepal.Width & Petal.Length & Petal.Width & Species\\\\\n  & <dbl> & <dbl> & <dbl> & <dbl> & <fct>\\\\\n\\hline\n\t1 & 5.1 & 3.5 & 1.4 & 0.2 & setosa\\\\\n\t2 & 4.9 & 3.0 & 1.4 & 0.2 & setosa\\\\\n\t3 & 4.7 & 3.2 & 1.3 & 0.2 & setosa\\\\\n\t4 & 4.6 & 3.1 & 1.5 & 0.2 & setosa\\\\\n\t5 & 5.0 & 3.6 & 1.4 & 0.2 & setosa\\\\\n\t6 & 5.4 & 3.9 & 1.7 & 0.4 & setosa\\\\\n\\end{tabular}\n",
            "text/plain": [
              "  Sepal.Length Sepal.Width Petal.Length Petal.Width Species\n",
              "1 5.1          3.5         1.4          0.2         setosa \n",
              "2 4.9          3.0         1.4          0.2         setosa \n",
              "3 4.7          3.2         1.3          0.2         setosa \n",
              "4 4.6          3.1         1.5          0.2         setosa \n",
              "5 5.0          3.6         1.4          0.2         setosa \n",
              "6 5.4          3.9         1.7          0.4         setosa "
            ]
          },
          "metadata": {}
        }
      ]
    },
    {
      "cell_type": "markdown",
      "source": [
        "Splitting the dataset to training set and test set in 7:3 ratio."
      ],
      "metadata": {
        "id": "g0a6uU5v1Qa2"
      }
    },
    {
      "cell_type": "code",
      "source": [
        "split <- sample.split(iris, SplitRatio=0.7)\n",
        "train_cl <- subset(iris, split==\"TRUE\")\n",
        "test_cl <- subset(iris, split==\"FALSE\")"
      ],
      "metadata": {
        "id": "XkFedKQBwygv"
      },
      "execution_count": 6,
      "outputs": []
    },
    {
      "cell_type": "markdown",
      "source": [
        "Feature Scaling"
      ],
      "metadata": {
        "id": "rSs-fwU41ZoR"
      }
    },
    {
      "cell_type": "code",
      "source": [
        "train_scale <- scale(train_cl[,1:4])\n",
        "test_scale <- scale(test_cl[,1:4])"
      ],
      "metadata": {
        "id": "InvfGFZ-xflY"
      },
      "execution_count": 7,
      "outputs": []
    },
    {
      "cell_type": "markdown",
      "source": [
        "KNN classification with k=1 and gradually increase it."
      ],
      "metadata": {
        "id": "OPpmEHvz1b9G"
      }
    },
    {
      "cell_type": "code",
      "source": [
        "classifier_knn <- knn(train=train_scale, test=test_scale, cl=train_cl$Species,k=1)\n",
        "print(classifier_knn)"
      ],
      "metadata": {
        "colab": {
          "base_uri": "https://localhost:8080/"
        },
        "id": "-TMazg6Wx0l9",
        "outputId": "e7b9f71d-9397-4c0c-fdd9-e840bcced9f3"
      },
      "execution_count": 24,
      "outputs": [
        {
          "output_type": "stream",
          "name": "stdout",
          "text": [
            " [1] setosa     setosa     setosa     setosa     setosa     setosa    \n",
            " [7] setosa     setosa     setosa     setosa     setosa     setosa    \n",
            "[13] setosa     setosa     setosa     setosa     setosa     setosa    \n",
            "[19] setosa     setosa     versicolor versicolor versicolor virginica \n",
            "[25] versicolor versicolor versicolor versicolor virginica  versicolor\n",
            "[31] versicolor versicolor versicolor versicolor virginica  versicolor\n",
            "[37] versicolor versicolor versicolor versicolor virginica  virginica \n",
            "[43] virginica  versicolor virginica  virginica  virginica  virginica \n",
            "[49] virginica  virginica  virginica  versicolor virginica  virginica \n",
            "[55] virginica  virginica  virginica  virginica  virginica  versicolor\n",
            "Levels: setosa versicolor virginica\n"
          ]
        }
      ]
    },
    {
      "cell_type": "markdown",
      "source": [
        "Plot the confusion matrix to see the predicted data."
      ],
      "metadata": {
        "id": "5T3Ak3g51hHs"
      }
    },
    {
      "cell_type": "code",
      "source": [
        "cm <- table(test_cl$Species, classifier_knn)\n",
        "print(cm)"
      ],
      "metadata": {
        "colab": {
          "base_uri": "https://localhost:8080/"
        },
        "id": "355VqUERywAG",
        "outputId": "c02adf17-1ad5-4bcf-ab1a-42c88f5ed543"
      },
      "execution_count": 25,
      "outputs": [
        {
          "output_type": "stream",
          "name": "stdout",
          "text": [
            "            classifier_knn\n",
            "             setosa versicolor virginica\n",
            "  setosa         20          0         0\n",
            "  versicolor      0         17         3\n",
            "  virginica       0          3        17\n"
          ]
        }
      ]
    },
    {
      "cell_type": "code",
      "source": [
        "misClassError <- mean(classifier_knn != test_cl$Species)\n",
        "print(paste('Accuracy =',1-misClassError))"
      ],
      "metadata": {
        "colab": {
          "base_uri": "https://localhost:8080/"
        },
        "id": "K4K7GhlGzHpj",
        "outputId": "7333771f-cb19-4548-c404-47b7a3cf4f4e"
      },
      "execution_count": 13,
      "outputs": [
        {
          "output_type": "stream",
          "name": "stdout",
          "text": [
            "[1] \"Accuracy = 0.9\"\n"
          ]
        }
      ]
    },
    {
      "cell_type": "code",
      "source": [
        "classifier_knn <- knn(train=train_scale, test=test_scale, cl=train_cl$Species,k=3)\n",
        "misClassError <- mean(classifier_knn != test_cl$Species)\n",
        "print(paste('Accuracy =',1-misClassError))"
      ],
      "metadata": {
        "colab": {
          "base_uri": "https://localhost:8080/"
        },
        "id": "2ewstKPpzsUS",
        "outputId": "e62f38a3-f65d-4814-ccb8-424d590e1d04"
      },
      "execution_count": 14,
      "outputs": [
        {
          "output_type": "stream",
          "name": "stdout",
          "text": [
            "[1] \"Accuracy = 0.883333333333333\"\n"
          ]
        }
      ]
    },
    {
      "cell_type": "code",
      "source": [
        "classifier_knn <- knn(train=train_scale, test=test_scale, cl=train_cl$Species,k=5)\n",
        "misClassError <- mean(classifier_knn != test_cl$Species)\n",
        "print(paste('Accuracy =',1-misClassError))"
      ],
      "metadata": {
        "colab": {
          "base_uri": "https://localhost:8080/"
        },
        "id": "Eu4jW_gUz6zj",
        "outputId": "da20cfb8-db33-4242-e4b5-c7b4e1a00dbc"
      },
      "execution_count": 15,
      "outputs": [
        {
          "output_type": "stream",
          "name": "stdout",
          "text": [
            "[1] \"Accuracy = 0.916666666666667\"\n"
          ]
        }
      ]
    },
    {
      "cell_type": "code",
      "source": [
        "classifier_knn <- knn(train=train_scale, test=test_scale, cl=train_cl$Species,k=7)\n",
        "misClassError <- mean(classifier_knn != test_cl$Species)\n",
        "print(paste('Accuracy =',1-misClassError))"
      ],
      "metadata": {
        "colab": {
          "base_uri": "https://localhost:8080/"
        },
        "id": "OboXJlVbz-in",
        "outputId": "629f2b92-a4fc-4020-a815-f5a5d7a86eca"
      },
      "execution_count": 16,
      "outputs": [
        {
          "output_type": "stream",
          "name": "stdout",
          "text": [
            "[1] \"Accuracy = 0.933333333333333\"\n"
          ]
        }
      ]
    },
    {
      "cell_type": "code",
      "source": [
        "classifier_knn <- knn(train=train_scale, test=test_scale, cl=train_cl$Species,k=15)\n",
        "misClassError <- mean(classifier_knn != test_cl$Species)\n",
        "print(paste('Accuracy =',1-misClassError))"
      ],
      "metadata": {
        "colab": {
          "base_uri": "https://localhost:8080/"
        },
        "id": "az8qDfuc0C3F",
        "outputId": "d2ecf342-a5ed-4ca1-ba65-dc69f9ed9a10"
      },
      "execution_count": 17,
      "outputs": [
        {
          "output_type": "stream",
          "name": "stdout",
          "text": [
            "[1] \"Accuracy = 0.95\"\n"
          ]
        }
      ]
    },
    {
      "cell_type": "code",
      "source": [
        "classifier_knn <- knn(train=train_scale, test=test_scale, cl=train_cl$Species,k=19)\n",
        "misClassError <- mean(classifier_knn != test_cl$Species)\n",
        "print(paste('Accuracy =',1-misClassError))"
      ],
      "metadata": {
        "colab": {
          "base_uri": "https://localhost:8080/"
        },
        "id": "XTPL_KE30IWm",
        "outputId": "a237194f-1e3e-4087-fbd9-140a8a8df206"
      },
      "execution_count": 26,
      "outputs": [
        {
          "output_type": "stream",
          "name": "stdout",
          "text": [
            "[1] \"Accuracy = 0.95\"\n"
          ]
        }
      ]
    },
    {
      "cell_type": "markdown",
      "source": [
        "Since the accuracy does not increase after k=19, we are stopping and plotting the confusion matrix. The model is about 95% accurate."
      ],
      "metadata": {
        "id": "zXGzj94F1niW"
      }
    },
    {
      "cell_type": "code",
      "source": [
        "cm <- table(test_cl$Species, classifier_knn)\n",
        "print(cm)"
      ],
      "metadata": {
        "colab": {
          "base_uri": "https://localhost:8080/"
        },
        "id": "h2JrSdqj0iqA",
        "outputId": "3e7bcd5c-6f56-49a2-fb2a-1cbab81a303e"
      },
      "execution_count": 27,
      "outputs": [
        {
          "output_type": "stream",
          "name": "stdout",
          "text": [
            "            classifier_knn\n",
            "             setosa versicolor virginica\n",
            "  setosa         20          0         0\n",
            "  versicolor      0         19         1\n",
            "  virginica       0          2        18\n"
          ]
        }
      ]
    }
  ]
}